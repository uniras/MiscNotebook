{
 "cells": [
  {
   "cell_type": "markdown",
   "metadata": {},
   "source": [
    "# HTML変換関数の定義"
   ]
  },
  {
   "cell_type": "code",
   "execution_count": null,
   "metadata": {},
   "outputs": [],
   "source": [
    "\n",
    "html_void_elements = [\"area\", \"base\", \"br\", \"col\", \"embed\", \"hr\", \"img\", \"input\", \"link\", \"meta\", \"param\", \"source\", \"track\", \"wbr\"]\n",
    "\n",
    "def jsonmlobj_to_html(obj, use_selfclose=False, void_elements=html_void_elements):\n",
    "    \"\"\"\n",
    "    JSONMLオブジェクトをHTML文字列に変換する\n",
    "\n",
    "    obj: JSONMLをjson.loadsやyaml.load等で読み込んだオブジェクト\n",
    "    use_selfclose: 自己終了タグに/を付けるかどうか\n",
    "    void_elements: 自己終了タグ(void要素)のリスト\n",
    "    \"\"\"\n",
    "\n",
    "    # 以下のいずれかに該当する場合はエラー\n",
    "    # - objがリストでない\n",
    "    # - objが空リスト\n",
    "    # - objの最初の要素が文字列でない\n",
    "    # - objの最初の要素が空文字列\n",
    "    if not isinstance(obj, list) or len(obj) == 0 or not isinstance(obj[0], str) or obj[0] == \"\":\n",
    "        raise Exception(\"Invalid JSONML object. The object must be a non-empty list with a string as the first element.\")\n",
    "\n",
    "    output = \"\"\n",
    "    tag = \"\"\n",
    "    attr = \"\"\n",
    "    start = 1\n",
    "    is_selfclose = False\n",
    "\n",
    "    # タグ名を取得し、自己終了タグ(void要素)かどうかを判定\n",
    "    tag = obj[0].lower()\n",
    "    if tag in void_elements:\n",
    "        is_selfclose = True\n",
    "    elif tag.endswith(\"/\"):\n",
    "        tag = tag[:-1]\n",
    "        is_selfclose = True\n",
    "    output += f\"<{tag}\"\n",
    "\n",
    "    # 属性を示す辞書型データが存在する場合は属性を取得\n",
    "    if len(obj) > 1 and isinstance(obj[1], dict):\n",
    "        attr = \" \" + (\" \".join(f'{k}=\"{v}\"' for k, v in obj[1].items()))\n",
    "        start = 2\n",
    "\n",
    "    # 開始タグを出力\n",
    "    output += f\"{attr} />\" if is_selfclose and use_selfclose else f\"{attr}>\"\n",
    "\n",
    "    # (自己終了タグでない場合は)子要素及びコンテンツを取得して出力\n",
    "    if not is_selfclose:\n",
    "        for i in range(start, len(obj)):\n",
    "            # リストの場合は子要素なので再帰呼び出し\n",
    "            if isinstance(obj[i], list):\n",
    "                output += jsonmlobj_to_html(obj[i], use_selfclose, void_elements)\n",
    "\n",
    "            # 属性以外の場所で辞書型データが存在する場合はエラー\n",
    "            elif isinstance(obj[i], dict):\n",
    "                raise Exception(f\"Invalid JSONML object. Unexpected dictionary at position {i}. Dictionaries are only allowed as the second element to specify attributes.\")\n",
    "\n",
    "            # リストでも辞書でもない場合はコンテンツとして出力\n",
    "            else:\n",
    "                output += str(obj[i])\n",
    "\n",
    "        # 終了タグを出力\n",
    "        output += f\"</{tag}>\"\n",
    "\n",
    "    # 自己終了タグなのに子要素やコンテンツが指定されている場合はエラー\n",
    "    elif len(obj) > start:\n",
    "        raise Exception(\"Invalid JSONML object. Self-closing tags should not have children.\")\n",
    "\n",
    "    return output"
   ]
  },
  {
   "cell_type": "markdown",
   "metadata": {},
   "source": [
    "# テスト用データの定義と変換"
   ]
  },
  {
   "cell_type": "code",
   "execution_count": null,
   "metadata": {},
   "outputs": [],
   "source": [
    "import yaml\n",
    "\n",
    "jsonml_yaml = \"\"\"\n",
    "- html\n",
    "- {lang: ja}\n",
    "- - head\n",
    "  - [meta, {charset: utf-8}]\n",
    "  - [title, JSON Markup Language]\n",
    "- - body\n",
    "  - [h1, JSON Markup Language]\n",
    "  - - div\n",
    "    - - p\n",
    "      - >-\n",
    "        JSON Markup Language (JSONML) is a lightweight markup language\n",
    "        used to represent HTML or XML documents in JSON format.\n",
    "      - - font\n",
    "        - {color: red}\n",
    "        - Hello, World!\n",
    "      - [font, {color: blue}, \"Goodbye, World!\"]\n",
    "      - Goodbye, World!\n",
    "\"\"\"\n",
    "\n",
    "jsonml_obj = yaml.load(jsonml_yaml, Loader=yaml.FullLoader)\n",
    "\n",
    "htmlstr = jsonmlobj_to_html(jsonml_obj)\n"
   ]
  },
  {
   "cell_type": "markdown",
   "metadata": {},
   "source": [
    "# HTMLを出力するテスト"
   ]
  },
  {
   "cell_type": "code",
   "execution_count": null,
   "metadata": {},
   "outputs": [],
   "source": [
    "from lxml import etree\n",
    "\n",
    "htmlobj = etree.HTML(htmlstr)  # type: ignore\n",
    "prettyhtml = etree.tostring(htmlobj, encoding=\"unicode\", pretty_print=True).replace(\"/>\", \">\")\n",
    "\n",
    "print(prettyhtml)\n"
   ]
  },
  {
   "cell_type": "markdown",
   "metadata": {},
   "source": [
    "# ブラウザに表示するテスト"
   ]
  },
  {
   "cell_type": "code",
   "execution_count": null,
   "metadata": {},
   "outputs": [],
   "source": [
    "import IPython.display as display\n",
    "\n",
    "display.HTML(htmlstr)  # type: ignore"
   ]
  }
 ],
 "metadata": {
  "kernelspec": {
   "display_name": ".venv",
   "language": "python",
   "name": "python3"
  },
  "language_info": {
   "codemirror_mode": {
    "name": "ipython",
    "version": 3
   },
   "file_extension": ".py",
   "mimetype": "text/x-python",
   "name": "python",
   "nbconvert_exporter": "python",
   "pygments_lexer": "ipython3",
   "version": "3.12.3"
  }
 },
 "nbformat": 4,
 "nbformat_minor": 2
}
