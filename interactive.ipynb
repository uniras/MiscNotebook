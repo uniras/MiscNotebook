{
 "cells": [
  {
   "cell_type": "code",
   "execution_count": null,
   "metadata": {},
   "outputs": [],
   "source": [
    "from google.colab import sheets\n",
    "import pandas as pd\n",
    "import numpy as np\n",
    "\n",
    "# ランダムなデータを持つデータフレームの作成\n",
    "df = pd.DataFrame(np.random.randn(10, 4), columns=list('ABCD'))\n",
    "\n",
    "# 新しいインタラクティブシートを作成し、データフレームを追加\n",
    "sheet = sheets.InteractiveSheet(df=df, title='SampleSheet', include_column_headers=True)"
   ]
  }
 ],
 "metadata": {
  "language_info": {
   "name": "python"
  }
 },
 "nbformat": 4,
 "nbformat_minor": 2
}
